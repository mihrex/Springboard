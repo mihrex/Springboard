{
 "cells": [
  {
   "cell_type": "markdown",
   "metadata": {},
   "source": [
    "This exercise will require you to pull some data from the Qunadl API. Qaundl is currently the most widely used aggregator of financial market data."
   ]
  },
  {
   "cell_type": "markdown",
   "metadata": {},
   "source": [
    "As a first step, you will need to register a free account on the http://www.quandl.com website."
   ]
  },
  {
   "cell_type": "markdown",
   "metadata": {},
   "source": [
    "After you register, you will be provided with a unique API key, that you should store:"
   ]
  },
  {
   "cell_type": "code",
   "execution_count": null,
   "metadata": {
    "collapsed": true
   },
   "outputs": [],
   "source": [
    "# Store the API key as a string - according to PEP8, constants are always named in all upper case\n",
    "API_KEY = 'WFJtSYpFHL-N7oofL_uE'"
   ]
  },
  {
   "cell_type": "markdown",
   "metadata": {},
   "source": [
    "Qaundl has a large number of data sources, but, unfortunately, most of them require a Premium subscription. Still, there are also a good number of free datasets."
   ]
  },
  {
   "cell_type": "markdown",
   "metadata": {},
   "source": [
    "For this mini project, we will focus on equities data from the Frankfurt Stock Exhange (FSE), which is available for free. We'll try and analyze the stock prices of a company called Carl Zeiss Meditec, which manufactures tools for eye examinations, as well as medical lasers for laser eye surgery: https://www.zeiss.com/meditec/int/home.html. The company is listed under the stock ticker AFX_X."
   ]
  },
  {
   "cell_type": "markdown",
   "metadata": {},
   "source": [
    "You can find the detailed Quandl API instructions here: https://docs.quandl.com/docs/time-series"
   ]
  },
  {
   "cell_type": "markdown",
   "metadata": {},
   "source": [
    "While there is a dedicated Python package for connecting to the Quandl API, we would prefer that you use the *requests* package, which can be easily downloaded using *pip* or *conda*. You can find the documentation for the package here: http://docs.python-requests.org/en/master/ "
   ]
  },
  {
   "cell_type": "markdown",
   "metadata": {},
   "source": [
    "Finally, apart from the *requests* package, you are encouraged to not use any third party Python packages, such as *pandas*, and instead focus on what's available in the Python Standard Library (the *collections* module might come in handy: https://pymotw.com/3/collections/ ).\n",
    "Also, since you won't have access to DataFrames, you are encouraged to us Python's native data structures - preferably dictionaries, though some questions can also be answered using lists.\n",
    "You can read more on these data structures here: https://docs.python.org/3/tutorial/datastructures.html"
   ]
  },
  {
   "cell_type": "markdown",
   "metadata": {},
   "source": [
    "Keep in mind that the JSON responses you will be getting from the API map almost one-to-one to Python's dictionaries. Unfortunately, they can be very nested, so make sure you read up on indexing dictionaries in the documentation provided above."
   ]
  },
  {
   "cell_type": "code",
   "execution_count": 1,
   "metadata": {},
   "outputs": [],
   "source": [
    "# First, import the relevant modules\n",
    "import requests\n"
   ]
  },
  {
   "cell_type": "code",
   "execution_count": 4,
   "metadata": {},
   "outputs": [],
   "source": [
    "# Now, call the Quandl API and pull out a small sample of the data (only one day) to get a glimpse\n",
    "# into the JSON structure that will be returned\n",
    "url = \"https://www.quandl.com/api/v3/datasets/FSE/AFX_X/data.json?&limit=1&api_key=\" + 'WFJtSYpFHL-N7oofL_uE'\n",
    "r = requests.get(url)"
   ]
  },
  {
   "cell_type": "code",
   "execution_count": 5,
   "metadata": {},
   "outputs": [
    {
     "data": {
      "text/plain": [
       "'{\"dataset_data\":{\"limit\":1,\"transform\":null,\"column_index\":null,\"column_names\":[\"Date\",\"Open\",\"High\",\"Low\",\"Close\",\"Change\",\"Traded Volume\",\"Turnover\",\"Last Price of the Day\",\"Daily Traded Units\",\"Daily Turnover\"],\"start_date\":\"2000-06-07\",\"end_date\":\"2019-04-05\",\"frequency\":\"daily\",\"data\":[[\"2019-04-05\",null,74.85,71.5,73.95,null,157218.0,11594577.0,null,null,null]],\"collapse\":null,\"order\":null}}'"
      ]
     },
     "execution_count": 5,
     "metadata": {},
     "output_type": "execute_result"
    }
   ],
   "source": [
    "# Inspect the JSON structure of the object you created, and take note of how nested it is,\n",
    "# as well as the overall structure\n",
    "r.text"
   ]
  },
  {
   "cell_type": "markdown",
   "metadata": {},
   "source": [
    "These are your tasks for this mini project:\n",
    "\n",
    "1. Collect data from the Franfurt Stock Exchange, for the ticker AFX_X, for the whole year 2017 (keep in mind that the date format is YYYY-MM-DD).\n",
    "2. Convert the returned JSON object into a Python dictionary.\n",
    "3. Calculate what the highest and lowest opening prices were for the stock in this period.\n",
    "4. What was the largest change in any one day (based on High and Low price)?\n",
    "5. What was the largest change between any two days (based on Closing Price)?\n",
    "6. What was the average daily trading volume during this year?\n",
    "7. (Optional) What was the median trading volume during this year. (Note: you may need to implement your own function for calculating the median.)"
   ]
  },
  {
   "cell_type": "code",
   "execution_count": 7,
   "metadata": {},
   "outputs": [],
   "source": [
    "#Task 1:\n",
    "#Collect data from the Franfurt Stock Exchange, for the ticker AFX_X, for the whole year 2017 (keep in mind that the date format is YYYY-MM-DD).\n",
    "url = \"https://www.quandl.com/api/v3/datasets/FSE/AFX_X/data.json?\" + \\\n",
    "      \"&start_date=2017-01-01&end_date=2017-12-31&api_key=\" + 'WFJtSYpFHL-N7oofL_uE'\n",
    "r = requests.get(url)"
   ]
  },
  {
   "cell_type": "code",
   "execution_count": 8,
   "metadata": {},
   "outputs": [],
   "source": [
    "#Task 2:\n",
    "#Convert the returned JSON object into a Python dictionary.\n",
    "json_data = r.json()\n",
    "\n",
    "# Creating a pandas DataFrame to check my answers\n",
    "# json_data_cols = json_data[\"dataset_data\"][\"column_names\"]\n",
    "# json_data_rows = json_data[\"dataset_data\"][\"data\"]\n",
    "# df = pd.DataFrame(json_data_rows, columns=json_data_cols)\n",
    "# df.head()"
   ]
  },
  {
   "cell_type": "code",
   "execution_count": 9,
   "metadata": {},
   "outputs": [
    {
     "name": "stdout",
     "output_type": "stream",
     "text": [
      "The highest opening price in 2017 was $53.11 per share and occured on 2017-12-14.\n",
      "The lowest opening price in 2017 was $34.00 per share and oocurred on 2017-01-24.\n"
     ]
    }
   ],
   "source": [
    "#Task 3:\n",
    "#Calculate what the highest and lowest opening prices were for the stock in this period\n",
    "\n",
    "# For loop solution\n",
    "# open_max = float(\"-inf\")\n",
    "# open_min = float(\"inf\")\n",
    "# \n",
    "# for row in json_data[\"dataset_data\"][\"data\"]:\n",
    "#     if row[1] != None:\n",
    "#         if row[1] > open_max:\n",
    "#             open_max = row[1]\n",
    "#         if row[1] < open_min:\n",
    "#             open_min = row[1]\n",
    "\n",
    "# List comprehension solution\n",
    "# open_list = [row[1] for row in json_data[\"dataset_data\"][\"data\"] if row[1] != None]\n",
    "# open_max = max(open_list)\n",
    "# open_min = min(open_list)\n",
    "# \n",
    "# print(\"The highest opening price in 2017 was ${0:.2f} per share.\".format(round(open_max, 2)))\n",
    "# print(\"The lowest opening price in 2017 was ${0:.2f} per share.\".format(round(open_min, 2)))\n",
    "\n",
    "# Dictionary comprehension solution for abstracting other significant data\n",
    "open_dict = {row[0]: row[1] for row in json_data[\"dataset_data\"][\"data\"] if row[1] != None}\n",
    "open_max_date, open_max = max(open_dict.items(), key=lambda k: k[1])\n",
    "open_min_date, open_min = min(open_dict.items(), key=lambda k: k[1])\n",
    "\n",
    "print(\"The highest opening price in 2017 was ${0:.2f} per share and occured on {1}.\" \\\n",
    "      .format(round(open_max, 2), open_max_date))\n",
    "print(\"The lowest opening price in 2017 was ${0:.2f} per share and oocurred on {1}.\" \\\n",
    "      .format(round(open_min, 2), open_min_date))\n",
    "\n",
    "# Using the pandas DataFrame to check my answers\n",
    "# df_open_max = df[[\"Date\",\"Open\"]][df.Open == df.Open.max()]\n",
    "# df_open_min = df[[\"Date\",\"Open\"]][df.Open == df.Open.min()]\n",
    "# print(df_open_max)\n",
    "# print(df_open_min)\n"
   ]
  },
  {
   "cell_type": "code",
   "execution_count": 10,
   "metadata": {},
   "outputs": [
    {
     "name": "stdout",
     "output_type": "stream",
     "text": [
      "The largest daily price spread in 2017 was Δ$2.81 per share and occurred on 2017-05-11.\n"
     ]
    }
   ],
   "source": [
    "#Task 4:\n",
    "#What was the largest change in any one day (based on High and Low price)?\n",
    "\n",
    "# For loop solution\n",
    "# spread_max = float(\"-inf\")\n",
    "# \n",
    "# for row in json_data[\"dataset_data\"][\"data\"]:\n",
    "#     spread = row[2] - row[3]\n",
    "#     if spread > spread_max:\n",
    "#         spread_max = spread\n",
    "\n",
    "# List comprehension solution        \n",
    "# spread_max = max(row[2] - row[3] for row in json_data[\"dataset_data\"][\"data\"])\n",
    "#             \n",
    "# print(\"The largest daily price spread in 2017 was {1}${0:.2f} per share.\" \\\n",
    "#       .format(round(spread_max, 2), u'\\u0394'))\n",
    "\n",
    "# Dictionary comprehension solution for abstracting other significant data\n",
    "spread_dict = {row[0]: row[2] - row[3] for row in json_data[\"dataset_data\"][\"data\"]}\n",
    "spread_max_date, spread_max = max(spread_dict.items(), key=lambda k: k[1])\n",
    "\n",
    "print(\"The largest daily price spread in 2017 was {1}${0:.2f} per share and occurred on {2}.\" \\\n",
    "      .format(round(spread_max, 2), u'\\u0394', spread_max_date))\n",
    "      \n",
    "# Using the pandas DataFrame to check my answers\n",
    "# df_spread_max = df[[\"Date\",\"High\",\"Low\"]][(df.High - df.Low) == (df.High - df.Low).max()]\n",
    "# df_spread_max"
   ]
  },
  {
   "cell_type": "code",
   "execution_count": 11,
   "metadata": {},
   "outputs": [
    {
     "name": "stdout",
     "output_type": "stream",
     "text": [
      "The largest change between consecutive day closing prices in 2017 was Δ$2.56 per share and occurred on 2017-08-08.\n"
     ]
    }
   ],
   "source": [
    "#Task 5:\n",
    "#What was the largest change between any two days (based on Closing Price)?\n",
    "\n",
    "# For loop solution\n",
    "# close_delta_max = float(\"-inf\")\n",
    "# close_prev =  json_data[\"dataset_data\"][\"data\"][0][4]\n",
    "# \n",
    "# for row in json_data[\"dataset_data\"][\"data\"][1:]:\n",
    "#     close = row[4]\n",
    "#     close_delta = abs(close_prev - close)\n",
    "#     close_prev = close\n",
    "#     if close_delta > close_delta_max:\n",
    "#         close_delta_max = close_delta\n",
    "        \n",
    "# List comprehension solution\n",
    "# close = [row[4] for row in json_data[\"dataset_data\"][\"data\"]]\n",
    "# close_delta_max = max(abs(close_prev - close) for close_prev, close in zip(close, close[1:]))\n",
    "# \n",
    "# print(\"The largest change between consecutive day closing prices in 2017 was {1}${0:.2f}\" \\\n",
    "#       \" per share.\".format(round(close_delta_max, 2), u'\\u0394'))\n",
    "\n",
    "# Dictionary comprehension solution for abstracting other significant data\n",
    "close_delta_dict = {}\n",
    "close_prev =  json_data[\"dataset_data\"][\"data\"][0][4]\n",
    "\n",
    "for row in json_data[\"dataset_data\"][\"data\"][1:]:\n",
    "    close = row[4]\n",
    "    close_delta_dict[row[0]] = abs(close_prev - close)\n",
    "    close_prev = close\n",
    "\n",
    "close_delta_max_date, close_delta_max = max(close_delta_dict.items(), key=lambda k:k[1])\n",
    "\n",
    "print(\"The largest change between consecutive day closing prices in 2017 was {1}${0:.2f}\" \\\n",
    "      \" per share and occurred on {2}.\".format(round(close_delta_max, 2), u'\\u0394', \\\n",
    "                                               close_delta_max_date))\n",
    "\n",
    "# Using the pandas DataFrame to check my answers\n",
    "# id_list = df.index[df.Close.diff().abs() == df.Close.diff().abs().max()].tolist()\n",
    "# id_list.insert(0, id_list[0] - 1)\n",
    "# df_close_delta_max = df.loc[id_list,[\"Date\",\"Close\"]]\n",
    "# df_close_delta_max[\"Diff\"] = df_close_delta_max.Close.diff().abs()\n",
    "# df_close_delta_max\n"
   ]
  },
  {
   "cell_type": "code",
   "execution_count": 12,
   "metadata": {},
   "outputs": [
    {
     "name": "stdout",
     "output_type": "stream",
     "text": [
      "The average daily traded volume for 2017 was 89,124.3 shares\n"
     ]
    }
   ],
   "source": [
    "#Task 6:\n",
    "#What was the average daily trading volume during this year?\n",
    "\n",
    "# For loop solution\n",
    "# vol_sum = 0\n",
    "# vol_count = 0\n",
    "# \n",
    "# for row in json_data[\"dataset_data\"][\"data\"]:\n",
    "#     vol_sum += row[6]\n",
    "#     vol_count += 1\n",
    "#     \n",
    "# vol_avg = vol_sum / vol_count\n",
    "\n",
    "# List comprehension solution\n",
    "volume = [row[6] for row in json_data[\"dataset_data\"][\"data\"]]\n",
    "vol_avg = sum(volume) / len(volume)\n",
    "\n",
    "print(\"The average daily traded volume for 2017 was {0:,} shares\".format(round(vol_avg, 1)))\n",
    "\n",
    "# Using the pandas DataFrame to check my answers\n",
    "# df_vol_avg = df[\"Traded Volume\"].mean()\n",
    "# df_vol_avg\n",
    "\n"
   ]
  },
  {
   "cell_type": "code",
   "execution_count": 13,
   "metadata": {},
   "outputs": [
    {
     "name": "stdout",
     "output_type": "stream",
     "text": [
      "The median daily traded volume for 2017 was 76,286.0 shares\n"
     ]
    }
   ],
   "source": [
    "#Task 7:\n",
    "#What was the median trading volume during this year. (Note: you may need to implement your own function for calculating the median.)\n",
    "\n",
    "# List comprehension solution\n",
    "volume = [row[6] for row in json_data[\"dataset_data\"][\"data\"]]\n",
    "vol_sorted = sorted(volume)\n",
    "\n",
    "if len(volume) % 2 != 0:\n",
    "    vol_median = vol_sorted[len(volume) // 2]\n",
    "else:\n",
    "    vol_median = (vol_sorted[len(volume) // 2 - 1] + vol_sorted[len(volume) // 2]) / 2\n",
    "\n",
    "print(\"The median daily traded volume for 2017 was {0:,} shares\".format(round(vol_median, 1)))\n",
    "\n",
    "# Using the pandas DataFrame to check my answers\n",
    "# df_vol_median = df[\"Traded Volume\"].median()\n",
    "# df_vol_median"
   ]
  },
  {
   "cell_type": "code",
   "execution_count": null,
   "metadata": {},
   "outputs": [],
   "source": []
  }
 ],
 "metadata": {
  "kernelspec": {
   "display_name": "Python 3",
   "language": "python",
   "name": "python3"
  },
  "language_info": {
   "codemirror_mode": {
    "name": "ipython",
    "version": 3
   },
   "file_extension": ".py",
   "mimetype": "text/x-python",
   "name": "python",
   "nbconvert_exporter": "python",
   "pygments_lexer": "ipython3",
   "version": "3.7.1"
  }
 },
 "nbformat": 4,
 "nbformat_minor": 2
}
